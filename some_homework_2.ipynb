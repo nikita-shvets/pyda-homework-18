{
 "cells": [
  {
   "cell_type": "code",
   "execution_count": 32,
   "metadata": {},
   "outputs": [
    {
     "name": "stdout",
     "output_type": "stream",
     "text": [
      "-0.207176\n"
     ]
    }
   ],
   "source": [
    "import numpy as np\n",
    "tries = 1000000\n",
    "total = 0\n",
    "np.random.seed(42)\n",
    "for i in range(tries):\n",
    "    x = np.random.randint(0, 1000)\n",
    "    if x == 999:\n",
    "        prize = 100\n",
    "    elif x == 555:\n",
    "        prize = 50\n",
    "    elif x == 333:\n",
    "        prize = 15\n",
    "    elif x == 111:\n",
    "        prize = 10\n",
    "    elif x == 777:\n",
    "        prize = 200\n",
    "    elif x%100 == 77:\n",
    "        prize = 5\n",
    "    elif x%100 == 0:\n",
    "        prize = 2\n",
    "    elif x%10 == 7:\n",
    "        prize = 3\n",
    "    elif x%10 == 0:\n",
    "        prize = 1\n",
    "    else:\n",
    "        prize = 0\n",
    "    total = total + prize\n",
    "money = (total - tries)/tries\n",
    "print(money)\n"
   ]
  },
  {
   "cell_type": "code",
   "execution_count": 152,
   "metadata": {},
   "outputs": [
    {
     "data": {
      "text/plain": [
       "24.9791"
      ]
     },
     "execution_count": 152,
     "metadata": {},
     "output_type": "execute_result"
    }
   ],
   "source": [
    "tries = 100000\n",
    "win = 0\n",
    "c = 0\n",
    "d = 0\n",
    "a = list(range(0,20))\n",
    "b= list(range(20,40))\n",
    "for i in range(tries):\n",
    "    x = np.random.randint(0, 100)\n",
    "    if x in a :\n",
    "        prize = 50\n",
    "    elif x in b:\n",
    "        prize = 80\n",
    "    else:\n",
    "        prize = 0\n",
    "    win = win + prize\n",
    "money = (win-tries)/tries\n",
    "money\n",
    "\n"
   ]
  },
  {
   "cell_type": "code",
   "execution_count": 33,
   "metadata": {},
   "outputs": [
    {
     "data": {
      "text/plain": [
       "0.20000000000000007"
      ]
     },
     "execution_count": 33,
     "metadata": {},
     "output_type": "execute_result"
    }
   ],
   "source": [
    "200 - 1/1000\n",
    "100 - 1/1000\n",
    "50 -1/1000\n",
    "15 - 1/1000\n",
    "10 - 1/1000\n",
    "5 - 9/1000\n",
    "3 - 90/1000\n",
    "2 - 10/1000\n",
    "1 - 90/1000\n",
    "money = (200 + 100 + 50 + 15 + 10)/1000 + 5*9/1000 + 90*3/1000 + 2/100 + 9/100\n",
    "1- money"
   ]
  },
  {
   "cell_type": "code",
   "execution_count": 55,
   "metadata": {},
   "outputs": [
    {
     "data": {
      "text/plain": [
       "20.8"
      ]
     },
     "execution_count": 55,
     "metadata": {},
     "output_type": "execute_result"
    }
   ],
   "source": []
  }
 ],
 "metadata": {
  "kernelspec": {
   "display_name": "Python 3",
   "language": "python",
   "name": "python3"
  },
  "language_info": {
   "codemirror_mode": {
    "name": "ipython",
    "version": 3
   },
   "file_extension": ".py",
   "mimetype": "text/x-python",
   "name": "python",
   "nbconvert_exporter": "python",
   "pygments_lexer": "ipython3",
   "version": "3.8.5"
  }
 },
 "nbformat": 4,
 "nbformat_minor": 4
}
